{
 "cells": [
  {
   "cell_type": "code",
   "execution_count": 42,
   "metadata": {},
   "outputs": [],
   "source": [
    "import torch\n",
    "import torch.nn as nn\n",
    "import torchvision\n",
    "import torchvision.transforms as transforms\n",
    "import torch.nn.functional as F\n",
    "import torch.optim as optim\n",
    "import matplotlib.pyplot as plt\n",
    "import numpy as np\n",
    "from tqdm.notebook import tqdm, trange"
   ]
  },
  {
   "cell_type": "code",
   "execution_count": 2,
   "metadata": {},
   "outputs": [],
   "source": [
    "transform = transforms.Compose([transforms.ToTensor()])\n",
    "train = torchvision.datasets.MNIST(root='./data/mnist', train=True, transform=transform, download=True)\n",
    "test = torchvision.datasets.MNIST(root='./data/mnist', train=False, transform=transform, download=True)\n",
    "\n",
    "trainloader = torch.utils.data.DataLoader(train, batch_size=4, shuffle=False, num_workers=0)\n",
    "testloader = torch.utils.data.DataLoader(test, batch_size=4, shuffle=False, num_workers=0)"
   ]
  },
  {
   "cell_type": "code",
   "execution_count": 3,
   "metadata": {},
   "outputs": [
    {
     "data": {
      "image/png": "[encoded data removed]",
      "text/plain": [
       "<Figure size 432x288 with 1 Axes>"
      ]
     },
     "metadata": {
      "needs_background": "light"
     },
     "output_type": "display_data"
    },
    {
     "name": "stdout",
     "output_type": "stream",
     "text": [
      "    5     0     4     1\n"
     ]
    }
   ],
   "source": [
    "def imshow(img):\n",
    "#     img = img / 2 + 0.5     # unnormalize\n",
    "    npimg = img.numpy()\n",
    "    plt.imshow(np.transpose(npimg, (1, 2, 0)))\n",
    "    plt.show()\n",
    "\n",
    "dataiter = iter(trainloader)\n",
    "images, labels = dataiter.next()\n",
    "imshow(torchvision.utils.make_grid(images))\n",
    "print(' '.join('%5s' % labels[j].item() for j in range(4)))"
   ]
  },
  {
   "cell_type": "code",
   "execution_count": 61,
   "metadata": {},
   "outputs": [],
   "source": [
    "class Net(nn.Module):\n",
    "    def __init__(self):\n",
    "        super().__init__()\n",
    "        # initialize layers\n",
    "        self.conv1 = nn.Conv2d(1, 16, 5)\n",
    "        self.pool = nn.MaxPool2d(2, 2)\n",
    "        self.conv2 = nn.Conv2d(16, 16, 5)\n",
    "        self.fc1 = nn.Linear(16 * 4 * 4, 128)\n",
    "        self.fc2 = nn.Linear(128, 64)\n",
    "        self.fc3 = nn.Linear(64, 10)\n",
    "    \n",
    "    def forward(self, x):\n",
    "        # define model architecture\n",
    "        x = self.pool(F.relu(self.conv1(x)))\n",
    "        x = self.pool(F.relu(self.conv2(x)))\n",
    "        x = x.view(-1, 16 * 4 * 4)\n",
    "        x = F.relu(self.fc1(x))\n",
    "        x = F.relu(self.fc2(x))\n",
    "        x = self.fc3(x)\n",
    "        return x"
   ]
  },
  {
   "cell_type": "code",
   "execution_count": 62,
   "metadata": {},
   "outputs": [],
   "source": [
    "net = Net()\n",
    "criterion = nn.CrossEntropyLoss()\n",
    "optimizer = optim.SGD(net.parameters(), lr=0.001, momentum=0.9)"
   ]
  },
  {
   "cell_type": "code",
   "execution_count": 63,
   "metadata": {
    "scrolled": true
   },
   "outputs": [
    {
     "data": {
      "application/vnd.jupyter.widget-view+json": {
       "model_id": "666c2491e16c40d8b48e44c28f71f4e7",
       "version_major": 2,
       "version_minor": 0
      },
      "text/plain": [
       "HBox(children=(FloatProgress(value=0.0, description='Epoch', max=6.0, style=ProgressStyle(description_width='i…"
      ]
     },
     "metadata": {},
     "output_type": "display_data"
    },
    {
     "data": {
      "application/vnd.jupyter.widget-view+json": {
       "model_id": "b0408d12b8c24bb28b22fc7c309ecbd9",
       "version_major": 2,
       "version_minor": 0
      },
      "text/plain": [
       "HBox(children=(FloatProgress(value=0.0, description='Batch 1', max=15000.0, style=ProgressStyle(description_wi…"
      ]
     },
     "metadata": {},
     "output_type": "display_data"
    },
    {
     "name": "stdout",
     "output_type": "stream",
     "text": [
      "Epoch: 1, Batches:  2000, Avg loss: 1.326\n",
      "Epoch: 1, Batches:  4000, Avg loss: 0.279\n",
      "Epoch: 1, Batches:  6000, Avg loss: 0.159\n",
      "Epoch: 1, Batches:  8000, Avg loss: 0.140\n",
      "Epoch: 1, Batches: 10000, Avg loss: 0.111\n",
      "Epoch: 1, Batches: 12000, Avg loss: 0.111\n",
      "Epoch: 1, Batches: 14000, Avg loss: 0.094\n"
     ]
    },
    {
     "data": {
      "application/vnd.jupyter.widget-view+json": {
       "model_id": "df24f944ff41494db2636ede50e692d8",
       "version_major": 2,
       "version_minor": 0
      },
      "text/plain": [
       "HBox(children=(FloatProgress(value=0.0, description='Batch 2', max=15000.0, style=ProgressStyle(description_wi…"
      ]
     },
     "metadata": {},
     "output_type": "display_data"
    },
    {
     "name": "stdout",
     "output_type": "stream",
     "text": [
      "Epoch: 2, Batches:  2000, Avg loss: 0.082\n",
      "Epoch: 2, Batches:  4000, Avg loss: 0.075\n",
      "Epoch: 2, Batches:  6000, Avg loss: 0.063\n",
      "Epoch: 2, Batches:  8000, Avg loss: 0.066\n",
      "Epoch: 2, Batches: 10000, Avg loss: 0.063\n",
      "Epoch: 2, Batches: 12000, Avg loss: 0.064\n",
      "Epoch: 2, Batches: 14000, Avg loss: 0.054\n"
     ]
    },
    {
     "data": {
      "application/vnd.jupyter.widget-view+json": {
       "model_id": "55a2915d24e44a2398cbffc676e71bc9",
       "version_major": 2,
       "version_minor": 0
      },
      "text/plain": [
       "HBox(children=(FloatProgress(value=0.0, description='Batch 3', max=15000.0, style=ProgressStyle(description_wi…"
      ]
     },
     "metadata": {},
     "output_type": "display_data"
    },
    {
     "name": "stdout",
     "output_type": "stream",
     "text": [
      "Epoch: 3, Batches:  2000, Avg loss: 0.051\n",
      "Epoch: 3, Batches:  4000, Avg loss: 0.046\n",
      "Epoch: 3, Batches:  6000, Avg loss: 0.040\n",
      "Epoch: 3, Batches:  8000, Avg loss: 0.047\n",
      "Epoch: 3, Batches: 10000, Avg loss: 0.046\n",
      "Epoch: 3, Batches: 12000, Avg loss: 0.045\n",
      "Epoch: 3, Batches: 14000, Avg loss: 0.039\n"
     ]
    },
    {
     "data": {
      "application/vnd.jupyter.widget-view+json": {
       "model_id": "09ac5b083a7f4bcb8d153ece86fef22b",
       "version_major": 2,
       "version_minor": 0
      },
      "text/plain": [
       "HBox(children=(FloatProgress(value=0.0, description='Batch 4', max=15000.0, style=ProgressStyle(description_wi…"
      ]
     },
     "metadata": {},
     "output_type": "display_data"
    },
    {
     "name": "stdout",
     "output_type": "stream",
     "text": [
      "Epoch: 4, Batches:  2000, Avg loss: 0.038\n",
      "Epoch: 4, Batches:  4000, Avg loss: 0.032\n",
      "Epoch: 4, Batches:  6000, Avg loss: 0.026\n",
      "Epoch: 4, Batches:  8000, Avg loss: 0.036\n",
      "Epoch: 4, Batches: 10000, Avg loss: 0.033\n",
      "Epoch: 4, Batches: 12000, Avg loss: 0.034\n",
      "Epoch: 4, Batches: 14000, Avg loss: 0.030\n"
     ]
    }
   ],
   "source": [
    "outer = tqdm(total=6, desc='Epoch', position=0)\n",
    "for epoch in range(4):\n",
    "    running_loss = 0.0\n",
    "    inner = tqdm(trainloader, desc='Batch %d' % (epoch+1), position=1)\n",
    "\n",
    "    for index, data in enumerate(trainloader):\n",
    "        inputs, labels = data\n",
    "        outputs = net(inputs)\n",
    "        loss = criterion(outputs, labels)\n",
    "        running_loss += loss.item()\n",
    "        optimizer.zero_grad()\n",
    "        loss.backward()\n",
    "        optimizer.step()\n",
    "        inner.update(1)\n",
    "    \n",
    "        if index % 2000 == 1999:\n",
    "            tqdm.write('Epoch: %d, Batches: %5d, Avg loss: %.3f' % (epoch + 1, index + 1, running_loss / 2000))\n",
    "            running_loss = 0.0\n",
    "    outer.update(1)"
   ]
  },
  {
   "cell_type": "code",
   "execution_count": 70,
   "metadata": {},
   "outputs": [],
   "source": [
    "path = './output/mnist/mnist_0410_1.pth'\n",
    "torch.save(net.state_dict(), path)"
   ]
  },
  {
   "cell_type": "code",
   "execution_count": 64,
   "metadata": {},
   "outputs": [],
   "source": [
    "def get_test_acc():\n",
    "    correct = 0\n",
    "    total = 0\n",
    "    with torch.no_grad():\n",
    "        for data in tqdm(testloader):\n",
    "            images, labels = data\n",
    "            outputs = net(images)\n",
    "            _, predicted = torch.max(outputs.data, 1)\n",
    "            total += labels.size(0)\n",
    "            correct += (predicted == labels).sum().item()\n",
    "\n",
    "    return (100 * correct / total)"
   ]
  },
  {
   "cell_type": "code",
   "execution_count": 69,
   "metadata": {},
   "outputs": [
    {
     "data": {
      "application/vnd.jupyter.widget-view+json": {
       "model_id": "017ac73f519347b7ac8fa01228509850",
       "version_major": 2,
       "version_minor": 0
      },
      "text/plain": [
       "HBox(children=(FloatProgress(value=0.0, max=2500.0), HTML(value='')))"
      ]
     },
     "metadata": {},
     "output_type": "display_data"
    },
    {
     "name": "stdout",
     "output_type": "stream",
     "text": [
      "\n",
      "Accuracy of the network on the 10000 test images: 98.75 %\n"
     ]
    }
   ],
   "source": [
    "print('Accuracy of the network on the 10000 test images: %.2f %%' % (get_test_acc()))"
   ]
  }
 ],
 "metadata": {
  "kernelspec": {
   "display_name": "Python 3",
   "language": "python",
   "name": "python3"
  },
  "language_info": {
   "codemirror_mode": {
    "name": "ipython",
    "version": 3
   },
   "file_extension": ".py",
   "mimetype": "text/x-python",
   "name": "python",
   "nbconvert_exporter": "python",
   "pygments_lexer": "ipython3",
   "version": "3.7.9"
  }
 },
 "nbformat": 4,
 "nbformat_minor": 4
}
